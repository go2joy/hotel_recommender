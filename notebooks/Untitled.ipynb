{
 "cells": [
  {
   "cell_type": "code",
   "execution_count": 12,
   "id": "990c0c03",
   "metadata": {},
   "outputs": [],
   "source": [
    "from joblib import Parallel, delayed\n",
    "import math\n",
    "import time\n",
    "\n",
    "def sqrt_func(i, j):\n",
    "    return math.sqrt(i**j), i\n",
    "\n",
    "a= Parallel(n_jobs=2)(delayed(sqrt_func)(i, j) for i in range(5) for j in range(2))"
   ]
  },
  {
   "cell_type": "code",
   "execution_count": 15,
   "id": "d69126ed",
   "metadata": {},
   "outputs": [
    {
     "data": {
      "text/plain": [
       "[(1.0, 0),\n",
       " (0.0, 0),\n",
       " (1.0, 1),\n",
       " (1.0, 1),\n",
       " (1.0, 2),\n",
       " (1.4142135623730951, 2),\n",
       " (1.0, 3),\n",
       " (1.7320508075688772, 3),\n",
       " (1.0, 4),\n",
       " (2.0, 4)]"
      ]
     },
     "execution_count": 15,
     "metadata": {},
     "output_type": "execute_result"
    }
   ],
   "source": [
    "a"
   ]
  },
  {
   "cell_type": "code",
   "execution_count": 18,
   "id": "06c5e334",
   "metadata": {},
   "outputs": [],
   "source": [
    "import pandas as pd\n",
    "b = pd.DataFrame(a)"
   ]
  },
  {
   "cell_type": "code",
   "execution_count": 20,
   "id": "4a981cbd",
   "metadata": {},
   "outputs": [],
   "source": [
    "b.columns = [\"a\", \"b\"]"
   ]
  },
  {
   "cell_type": "code",
   "execution_count": 21,
   "id": "7dad7a1d",
   "metadata": {},
   "outputs": [
    {
     "data": {
      "text/html": [
       "<div>\n",
       "<style scoped>\n",
       "    .dataframe tbody tr th:only-of-type {\n",
       "        vertical-align: middle;\n",
       "    }\n",
       "\n",
       "    .dataframe tbody tr th {\n",
       "        vertical-align: top;\n",
       "    }\n",
       "\n",
       "    .dataframe thead th {\n",
       "        text-align: right;\n",
       "    }\n",
       "</style>\n",
       "<table border=\"1\" class=\"dataframe\">\n",
       "  <thead>\n",
       "    <tr style=\"text-align: right;\">\n",
       "      <th></th>\n",
       "      <th>a</th>\n",
       "      <th>b</th>\n",
       "    </tr>\n",
       "  </thead>\n",
       "  <tbody>\n",
       "    <tr>\n",
       "      <th>0</th>\n",
       "      <td>1.000000</td>\n",
       "      <td>0</td>\n",
       "    </tr>\n",
       "    <tr>\n",
       "      <th>1</th>\n",
       "      <td>0.000000</td>\n",
       "      <td>0</td>\n",
       "    </tr>\n",
       "    <tr>\n",
       "      <th>2</th>\n",
       "      <td>1.000000</td>\n",
       "      <td>1</td>\n",
       "    </tr>\n",
       "    <tr>\n",
       "      <th>3</th>\n",
       "      <td>1.000000</td>\n",
       "      <td>1</td>\n",
       "    </tr>\n",
       "    <tr>\n",
       "      <th>4</th>\n",
       "      <td>1.000000</td>\n",
       "      <td>2</td>\n",
       "    </tr>\n",
       "    <tr>\n",
       "      <th>5</th>\n",
       "      <td>1.414214</td>\n",
       "      <td>2</td>\n",
       "    </tr>\n",
       "    <tr>\n",
       "      <th>6</th>\n",
       "      <td>1.000000</td>\n",
       "      <td>3</td>\n",
       "    </tr>\n",
       "    <tr>\n",
       "      <th>7</th>\n",
       "      <td>1.732051</td>\n",
       "      <td>3</td>\n",
       "    </tr>\n",
       "    <tr>\n",
       "      <th>8</th>\n",
       "      <td>1.000000</td>\n",
       "      <td>4</td>\n",
       "    </tr>\n",
       "    <tr>\n",
       "      <th>9</th>\n",
       "      <td>2.000000</td>\n",
       "      <td>4</td>\n",
       "    </tr>\n",
       "  </tbody>\n",
       "</table>\n",
       "</div>"
      ],
      "text/plain": [
       "          a  b\n",
       "0  1.000000  0\n",
       "1  0.000000  0\n",
       "2  1.000000  1\n",
       "3  1.000000  1\n",
       "4  1.000000  2\n",
       "5  1.414214  2\n",
       "6  1.000000  3\n",
       "7  1.732051  3\n",
       "8  1.000000  4\n",
       "9  2.000000  4"
      ]
     },
     "execution_count": 21,
     "metadata": {},
     "output_type": "execute_result"
    }
   ],
   "source": [
    "b"
   ]
  },
  {
   "cell_type": "code",
   "execution_count": 22,
   "id": "3ca2a19c",
   "metadata": {},
   "outputs": [
    {
     "data": {
      "text/plain": [
       "[0, 0, 1, 1, 2, 2, 3, 3, 4, 4]"
      ]
     },
     "execution_count": 22,
     "metadata": {},
     "output_type": "execute_result"
    }
   ],
   "source": [
    "list(b['b'])"
   ]
  },
  {
   "cell_type": "code",
   "execution_count": null,
   "id": "a3ec6b4f",
   "metadata": {},
   "outputs": [],
   "source": []
  },
  {
   "cell_type": "code",
   "execution_count": 8,
   "id": "9995b942",
   "metadata": {},
   "outputs": [],
   "source": [
    "def change(b):\n",
    "    b = 5"
   ]
  },
  {
   "cell_type": "code",
   "execution_count": 9,
   "id": "7a87d9da",
   "metadata": {},
   "outputs": [],
   "source": [
    "b = 3\n",
    "change(b)"
   ]
  },
  {
   "cell_type": "code",
   "execution_count": 10,
   "id": "b6b86975",
   "metadata": {},
   "outputs": [
    {
     "data": {
      "text/plain": [
       "3"
      ]
     },
     "execution_count": 10,
     "metadata": {},
     "output_type": "execute_result"
    }
   ],
   "source": [
    "b"
   ]
  },
  {
   "cell_type": "code",
   "execution_count": 2,
   "id": "dd494963",
   "metadata": {},
   "outputs": [
    {
     "name": "stdout",
     "output_type": "stream",
     "text": [
      "{'only_x': 100, 'both1': 11, 'both2': 22}\n",
      "{'both1': 11, 'both2': 22}\n",
      "{'only_x': 100, 'both2': 22, 'only_y': 200, 'both1': 11}\n"
     ]
    }
   ],
   "source": [
    "x = {'both1': 1, 'both2': 2, 'only_x': 100}\n",
    "y = {'both1': 10, 'both2': 20, 'only_y': 200}\n",
    "z = [{'both1': 1, 'both2': 2, 'only_x': 100}, {'both1': 10, 'both2': 20, 'only_y': 200}]\n",
    "# print({k: x.get(k, 0) + y.get(k, 0) for k in set(x)})\n",
    "# print({k: x.get(k, 0) + y.get(k, 0) for k in set(x) & set(y)})\n",
    "print({k: x.get(k, 0) + y.get(k, 0) for k in set(x) | set(y)})"
   ]
  },
  {
   "cell_type": "code",
   "execution_count": 3,
   "id": "a75a06c6",
   "metadata": {},
   "outputs": [
    {
     "data": {
      "text/plain": [
       "{'both1', 'both2', 'only_x'}"
      ]
     },
     "execution_count": 3,
     "metadata": {},
     "output_type": "execute_result"
    }
   ],
   "source": [
    "set(x)"
   ]
  },
  {
   "cell_type": "code",
   "execution_count": 9,
   "id": "5231955a",
   "metadata": {},
   "outputs": [],
   "source": [
    "import functools\n",
    "import operator\n",
    "import collections\n",
    "ini_dict = [{'a':5, 'b':10, 'c':90},\n",
    "            {'a':45, 'b':78}, \n",
    "            {'a':90, 'c':10}]\n",
    "\n",
    "# sum the values with same keys\n",
    "result = dict(functools.reduce(operator.add, map(collections.Counter, ini_dict)))"
   ]
  },
  {
   "cell_type": "code",
   "execution_count": 10,
   "id": "77b3cfd4",
   "metadata": {},
   "outputs": [
    {
     "data": {
      "text/plain": [
       "{'a': 140, 'b': 88, 'c': 100}"
      ]
     },
     "execution_count": 10,
     "metadata": {},
     "output_type": "execute_result"
    }
   ],
   "source": [
    "result"
   ]
  },
  {
   "cell_type": "code",
   "execution_count": null,
   "id": "d29f8f93",
   "metadata": {},
   "outputs": [],
   "source": []
  }
 ],
 "metadata": {
  "kernelspec": {
   "display_name": "py38",
   "language": "python",
   "name": "py38"
  },
  "language_info": {
   "codemirror_mode": {
    "name": "ipython",
    "version": 3
   },
   "file_extension": ".py",
   "mimetype": "text/x-python",
   "name": "python",
   "nbconvert_exporter": "python",
   "pygments_lexer": "ipython3",
   "version": "3.8.13"
  }
 },
 "nbformat": 4,
 "nbformat_minor": 5
}
