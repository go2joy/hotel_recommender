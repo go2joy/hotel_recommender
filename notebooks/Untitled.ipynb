{
 "cells": [
  {
   "cell_type": "code",
   "execution_count": 12,
   "id": "990c0c03",
   "metadata": {},
   "outputs": [],
   "source": [
    "from joblib import Parallel, delayed\n",
    "import math\n",
    "import time\n",
    "import pandas as pd\n",
    "b = pd.DataFrame(a)\n",
    "\n",
    "def sqrt_func(i, j):\n",
    "    return math.sqrt(i**j), i\n",
    "\n",
    "a= Parallel(n_jobs=2)(delayed(sqrt_func)(i, j) for i in range(5) for j in range(2))"
   ]
  },
  {
   "cell_type": "code",
   "execution_count": 9,
   "id": "5231955a",
   "metadata": {},
   "outputs": [],
   "source": [
    "import functools\n",
    "import operator\n",
    "import collections\n",
    "ini_dict = [{'a':5, 'b':10, 'c':90},\n",
    "            {'a':45, 'b':78}, \n",
    "            {'a':90, 'c':10}]\n",
    "\n",
    "# sum the values with same keys\n",
    "result = dict(functools.reduce(operator.add, map(collections.Counter, ini_dict)))"
   ]
  },
  {
   "cell_type": "code",
   "execution_count": 10,
   "id": "77b3cfd4",
   "metadata": {},
   "outputs": [
    {
     "data": {
      "text/plain": [
       "{'a': 140, 'b': 88, 'c': 100}"
      ]
     },
     "execution_count": 10,
     "metadata": {},
     "output_type": "execute_result"
    }
   ],
   "source": [
    "result"
   ]
  },
  {
   "cell_type": "code",
   "execution_count": 3,
   "id": "d29f8f93",
   "metadata": {},
   "outputs": [
    {
     "ename": "ModuleNotFoundError",
     "evalue": "No module named 'cudf'",
     "output_type": "error",
     "traceback": [
      "\u001b[0;31m---------------------------------------------------------------------------\u001b[0m",
      "\u001b[0;31mModuleNotFoundError\u001b[0m                       Traceback (most recent call last)",
      "Input \u001b[0;32mIn [3]\u001b[0m, in \u001b[0;36m<cell line: 4>\u001b[0;34m()\u001b[0m\n\u001b[1;32m      2\u001b[0m \u001b[38;5;28;01mimport\u001b[39;00m \u001b[38;5;21;01mgc\u001b[39;00m\n\u001b[1;32m      3\u001b[0m \u001b[38;5;28;01mimport\u001b[39;00m \u001b[38;5;21;01mtimeit\u001b[39;00m\n\u001b[0;32m----> 4\u001b[0m \u001b[38;5;28;01mimport\u001b[39;00m \u001b[38;5;21;01mcudf\u001b[39;00m \u001b[38;5;28;01mas\u001b[39;00m \u001b[38;5;21;01mcu\u001b[39;00m\n\u001b[1;32m      5\u001b[0m \u001b[38;5;28;01mimport\u001b[39;00m \u001b[38;5;21;01mdask_cudf\u001b[39;00m \u001b[38;5;28;01mas\u001b[39;00m \u001b[38;5;21;01mdkcu\u001b[39;00m\n\u001b[1;32m      6\u001b[0m \u001b[38;5;66;03m# x = cu.read_csv(\"data/data_1gb.csv\", flush=True)\u001b[39;00m\n",
      "\u001b[0;31mModuleNotFoundError\u001b[0m: No module named 'cudf'"
     ]
    }
   ],
   "source": [
    "import os\n",
    "import gc\n",
    "import timeit\n",
    "import cudf as cu\n",
    "import dask_cudf as dkcu\n",
    "# x = cu.read_csv(\"data/data_1gb.csv\", flush=True)\n",
    "x = dkcu.read_csv(\"data/data_1gb.csv\", flush=True)\n",
    "x"
   ]
  },
  {
   "cell_type": "code",
   "execution_count": null,
   "id": "b296f62b",
   "metadata": {},
   "outputs": [],
   "source": []
  }
 ],
 "metadata": {
  "kernelspec": {
   "display_name": "py38",
   "language": "python",
   "name": "py38"
  },
  "language_info": {
   "codemirror_mode": {
    "name": "ipython",
    "version": 3
   },
   "file_extension": ".py",
   "mimetype": "text/x-python",
   "name": "python",
   "nbconvert_exporter": "python",
   "pygments_lexer": "ipython3",
   "version": "3.8.13"
  }
 },
 "nbformat": 4,
 "nbformat_minor": 5
}
